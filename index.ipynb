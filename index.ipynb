{
 "cells": [
  {
   "cell_type": "code",
   "execution_count": 169,
   "id": "f2c9caa8",
   "metadata": {},
   "outputs": [],
   "source": [
    "import pandas as pd\n",
    "import numpy as np\n",
    "import re\n",
    "import nltk\n",
    "from nltk.stem.porter import PorterStemmer\n",
    "from nltk.corpus import stopwords\n",
    "from sklearn.model_selection import train_test_split\n",
    "from sklearn.linear_model import LogisticRegression\n",
    "from sklearn.metrics import accuracy_score, classification_report"
   ]
  },
  {
   "cell_type": "code",
   "execution_count": 170,
   "id": "a3043778",
   "metadata": {},
   "outputs": [],
   "source": [
    "# Try reading the file with encoding='utf-8'\n",
    "try:\n",
    "    tweet = pd.read_csv('tweet_sentiment.csv', encoding='utf-8')\n",
    "except UnicodeDecodeError:\n",
    "    # Fallback: if utf-8 fails, try 'ISO-8859-1'\n",
    "    tweet = pd.read_csv('tweet_sentiment.csv', encoding='ISO-8859-1')\n"
   ]
  },
  {
   "cell_type": "code",
   "execution_count": 171,
   "id": "cb2dad73",
   "metadata": {},
   "outputs": [
    {
     "data": {
      "text/html": [
       "<div>\n",
       "<style scoped>\n",
       "    .dataframe tbody tr th:only-of-type {\n",
       "        vertical-align: middle;\n",
       "    }\n",
       "\n",
       "    .dataframe tbody tr th {\n",
       "        vertical-align: top;\n",
       "    }\n",
       "\n",
       "    .dataframe thead th {\n",
       "        text-align: right;\n",
       "    }\n",
       "</style>\n",
       "<table border=\"1\" class=\"dataframe\">\n",
       "  <thead>\n",
       "    <tr style=\"text-align: right;\">\n",
       "      <th></th>\n",
       "      <th>tweet</th>\n",
       "      <th>sentiment</th>\n",
       "    </tr>\n",
       "  </thead>\n",
       "  <tbody>\n",
       "    <tr>\n",
       "      <th>0</th>\n",
       "      <td>The event starts at 5 PM.</td>\n",
       "      <td>neutral</td>\n",
       "    </tr>\n",
       "    <tr>\n",
       "      <th>1</th>\n",
       "      <td>I hate how this turned out.</td>\n",
       "      <td>negative</td>\n",
       "    </tr>\n",
       "    <tr>\n",
       "      <th>2</th>\n",
       "      <td>Fantastic experience!</td>\n",
       "      <td>positive</td>\n",
       "    </tr>\n",
       "    <tr>\n",
       "      <th>3</th>\n",
       "      <td>Fantastic experience!</td>\n",
       "      <td>positive</td>\n",
       "    </tr>\n",
       "    <tr>\n",
       "      <th>4</th>\n",
       "      <td>This is the worst thing ever!</td>\n",
       "      <td>negative</td>\n",
       "    </tr>\n",
       "  </tbody>\n",
       "</table>\n",
       "</div>"
      ],
      "text/plain": [
       "                           tweet sentiment\n",
       "0      The event starts at 5 PM.   neutral\n",
       "1    I hate how this turned out.  negative\n",
       "2          Fantastic experience!  positive\n",
       "3          Fantastic experience!  positive\n",
       "4  This is the worst thing ever!  negative"
      ]
     },
     "execution_count": 171,
     "metadata": {},
     "output_type": "execute_result"
    }
   ],
   "source": [
    "tweet.head()"
   ]
  },
  {
   "cell_type": "code",
   "execution_count": 172,
   "id": "536614c6",
   "metadata": {},
   "outputs": [
    {
     "data": {
      "text/plain": [
       "(1027, 2)"
      ]
     },
     "execution_count": 172,
     "metadata": {},
     "output_type": "execute_result"
    }
   ],
   "source": [
    "tweet.shape"
   ]
  },
  {
   "cell_type": "code",
   "execution_count": 173,
   "id": "e27d540d",
   "metadata": {},
   "outputs": [
    {
     "data": {
      "text/plain": [
       "983"
      ]
     },
     "execution_count": 173,
     "metadata": {},
     "output_type": "execute_result"
    }
   ],
   "source": [
    "tweet.duplicated().sum().item()"
   ]
  },
  {
   "cell_type": "code",
   "execution_count": 174,
   "id": "b5954ab4",
   "metadata": {},
   "outputs": [
    {
     "data": {
      "text/plain": [
       "tweet        0\n",
       "sentiment    0\n",
       "dtype: int64"
      ]
     },
     "execution_count": 174,
     "metadata": {},
     "output_type": "execute_result"
    }
   ],
   "source": [
    "tweet.isnull().sum()"
   ]
  },
  {
   "cell_type": "code",
   "execution_count": 175,
   "id": "6c38634b",
   "metadata": {},
   "outputs": [
    {
     "data": {
      "text/plain": [
       "'Itâ\\x80\\x99s cloudy outside.'"
      ]
     },
     "execution_count": 175,
     "metadata": {},
     "output_type": "execute_result"
    }
   ],
   "source": [
    "tweet['tweet'][995]"
   ]
  },
  {
   "cell_type": "code",
   "execution_count": 176,
   "id": "ffb0f363",
   "metadata": {},
   "outputs": [],
   "source": [
    "# tweet['sentiment'].value_counts().plot(kind='bar')"
   ]
  },
  {
   "cell_type": "code",
   "execution_count": 177,
   "id": "0b8bd6ec",
   "metadata": {},
   "outputs": [
    {
     "data": {
      "text/plain": [
       "<Axes: ylabel='count'>"
      ]
     },
     "execution_count": 177,
     "metadata": {},
     "output_type": "execute_result"
    },
    {
     "data": {
      "image/png": "[encoded data removed]",
      "text/plain": [
       "<Figure size 640x480 with 1 Axes>"
      ]
     },
     "metadata": {},
     "output_type": "display_data"
    }
   ],
   "source": [
    "tweet['sentiment'].value_counts().plot(kind='pie', autopct='%.1f%%')"
   ]
  },
  {
   "cell_type": "code",
   "execution_count": 178,
   "id": "1629d644",
   "metadata": {},
   "outputs": [],
   "source": [
    "stop_words = set(stopwords.words('english')) - {'not', 'no', 'nor', 'never'}\n",
    "stemmer = PorterStemmer()\n",
    "\n",
    "def preprocess(text):\n",
    "    # Lowercase\n",
    "    text = text.lower()\n",
    "    # Remove URLs, mentions, hashtags\n",
    "    text = re.sub(r'http\\S+|@\\S+|#\\S+', '', text)\n",
    "    # Remove punctuation and numbers\n",
    "    text = re.sub(r'[^a-zA-Z]', ' ', text)\n",
    "    # Tokenize and remove stopwords\n",
    "    words = text.split()\n",
    "    words = [stemmer.stem(word) for word in words if word not in stop_words]\n",
    "    return ' '.join(words)"
   ]
  },
  {
   "cell_type": "code",
   "execution_count": 179,
   "id": "7f659e01",
   "metadata": {},
   "outputs": [],
   "source": [
    "tweet['tweet'] = tweet['tweet'].apply(preprocess)"
   ]
  },
  {
   "cell_type": "code",
   "execution_count": 180,
   "id": "69fddeaa",
   "metadata": {},
   "outputs": [],
   "source": [
    "all_words = ' '.join(tweet['tweet'])\n"
   ]
  },
  {
   "cell_type": "code",
   "execution_count": 181,
   "id": "f1be2849",
   "metadata": {},
   "outputs": [
    {
     "data": {
      "text/plain": [
       "14818"
      ]
     },
     "execution_count": 181,
     "metadata": {},
     "output_type": "execute_result"
    }
   ],
   "source": [
    "len(all_words)"
   ]
  },
  {
   "cell_type": "code",
   "execution_count": 182,
   "id": "cd924e23",
   "metadata": {},
   "outputs": [
    {
     "name": "stdout",
     "output_type": "stream",
     "text": [
      "[('day', 165), ('experi', 73), ('fantast', 71), ('absolut', 71), ('love', 70), ('event', 69), ('start', 69), ('pm', 69), ('happi', 69), ('news', 67), ('made', 67), ('work', 67), ('home', 67), ('today', 66), ('tuesday', 66), ('updat', 66), ('wonder', 63), ('cloudi', 63), ('outsid', 63), ('team', 61)]\n"
     ]
    }
   ],
   "source": [
    "from collections import Counter\n",
    "\n",
    "# Tokenize\n",
    "tokens = all_words.split()\n",
    "# Count frequency\n",
    "word_freq = Counter(tokens)\n",
    "# Get top 20 most common\n",
    "common_words = word_freq.most_common(20)\n",
    "print(common_words)"
   ]
  },
  {
   "cell_type": "code",
   "execution_count": 183,
   "id": "9b682067",
   "metadata": {},
   "outputs": [
    {
     "data": {
      "image/png": "[encoded data removed]",
      "text/plain": [
       "<Figure size 900x300 with 1 Axes>"
      ]
     },
     "metadata": {},
     "output_type": "display_data"
    }
   ],
   "source": [
    "import matplotlib.pyplot as plt\n",
    "\n",
    "\n",
    "# Convert common_words (list of tuples) into a DataFrame\n",
    "common_df = pd.DataFrame(common_words, columns=['word', 'count'])\n",
    "\n",
    "# Plot using pandas\n",
    "common_df.set_index('word')['count'].plot(kind='bar', figsize=(9, 3), color='skyblue')\n",
    "\n",
    "plt.title(\"Top 20 Most Common Words in Tweets\")\n",
    "plt.xlabel(\"Words\")\n",
    "plt.ylabel(\"Frequency\")\n",
    "plt.xticks(rotation=45)\n",
    "plt.tight_layout()\n",
    "plt.show()\n"
   ]
  },
  {
   "cell_type": "code",
   "execution_count": 184,
   "id": "0d4021a1",
   "metadata": {},
   "outputs": [],
   "source": [
    "from sklearn.feature_extraction.text import TfidfVectorizer\n",
    "\n",
    "vectorizer = TfidfVectorizer(ngram_range=(1, 3), max_features=1000)\n",
    "X = vectorizer.fit_transform(tweet['tweet']).toarray()\n",
    "y = tweet['sentiment']  # Target column"
   ]
  },
  {
   "cell_type": "code",
   "execution_count": 185,
   "id": "cd5f42af",
   "metadata": {},
   "outputs": [],
   "source": [
    "X_train, X_test, y_train, y_test = train_test_split(X,y,test_size=0.3, random_state=42)"
   ]
  },
  {
   "cell_type": "code",
   "execution_count": 186,
   "id": "6daf5413",
   "metadata": {},
   "outputs": [
    {
     "data": {
      "text/plain": [
       "(718, 233)"
      ]
     },
     "execution_count": 186,
     "metadata": {},
     "output_type": "execute_result"
    }
   ],
   "source": [
    "X_train.shape"
   ]
  },
  {
   "cell_type": "code",
   "execution_count": 187,
   "id": "8b2711e1",
   "metadata": {},
   "outputs": [
    {
     "data": {
      "text/plain": [
       "(309, 233)"
      ]
     },
     "execution_count": 187,
     "metadata": {},
     "output_type": "execute_result"
    }
   ],
   "source": [
    "X_test.shape"
   ]
  },
  {
   "cell_type": "code",
   "execution_count": 188,
   "id": "84c5e8dd",
   "metadata": {},
   "outputs": [],
   "source": [
    "model = LogisticRegression()\n",
    "\n",
    "# Train the model using the training data\n",
    "model.fit(X_train, y_train)\n",
    "\n",
    "# Make predictions on the test set\n",
    "y_pred = model.predict(X_test)"
   ]
  },
  {
   "cell_type": "code",
   "execution_count": 189,
   "id": "091d8cc8",
   "metadata": {},
   "outputs": [
    {
     "name": "stdout",
     "output_type": "stream",
     "text": [
      "0.9967637540453075\n"
     ]
    }
   ],
   "source": [
    "# Evaluate the model's performance\n",
    "accuracy = accuracy_score(y_test, y_pred)\n",
    "print(accuracy)"
   ]
  },
  {
   "cell_type": "code",
   "execution_count": 191,
   "id": "948c449b",
   "metadata": {},
   "outputs": [],
   "source": [
    "import pickle"
   ]
  },
  {
   "cell_type": "code",
   "execution_count": 192,
   "id": "68260d60",
   "metadata": {},
   "outputs": [],
   "source": [
    "with open('model.pkl', 'wb') as file:\n",
    "    pickle.dump(model, file)\n",
    "\n",
    "with open('vectorizer.pkl', 'wb') as file:\n",
    "    pickle.dump(vectorizer, file)\n"
   ]
  },
  {
   "cell_type": "code",
   "execution_count": 193,
   "id": "5bf6704a",
   "metadata": {},
   "outputs": [],
   "source": [
    "def prediction(text):\n",
    "    processed_text = preprocess(text)\n",
    "    text_list = [processed_text] # wrap the preproccessed comment\n",
    "    text_vector = vectorizer.transform(text_list)\n",
    "    predicted_result = model.predict(text_vector)[0]\n",
    "    return predicted_result\n"
   ]
  },
  {
   "cell_type": "code",
   "execution_count": 194,
   "id": "e1e5c101",
   "metadata": {},
   "outputs": [
    {
     "name": "stdout",
     "output_type": "stream",
     "text": [
      "positive\n"
     ]
    }
   ],
   "source": [
    "print(prediction(' i have a lot of feeling for love'))\n"
   ]
  }
 ],
 "metadata": {
  "kernelspec": {
   "display_name": "Python 3",
   "language": "python",
   "name": "python3"
  },
  "language_info": {
   "codemirror_mode": {
    "name": "ipython",
    "version": 3
   },
   "file_extension": ".py",
   "mimetype": "text/x-python",
   "name": "python",
   "nbconvert_exporter": "python",
   "pygments_lexer": "ipython3",
   "version": "3.11.1"
  }
 },
 "nbformat": 4,
 "nbformat_minor": 5
}
